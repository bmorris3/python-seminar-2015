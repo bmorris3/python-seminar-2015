{
 "cells": [
  {
   "cell_type": "markdown",
   "metadata": {},
   "source": [
    "![astropy logo](http://astropy.readthedocs.org/en/stable/_images/astropy_banner.svg)\n",
    "\n",
    "# Introduction to [`astropy`](http://astropy.readthedocs.org/en/stable/)\n",
    "\n",
    "with Brett Morris ([@brettmor](http://twitter.com/brettmor))\n",
    "\n",
    "*** \n",
    "\n",
    "## Setup\n",
    "\n",
    "Dependencies for this talk include: [astropy](http://astropy.readthedocs.org/en/stable/install.html) (plus numpy and matplotlib) and optionally [astroquery](https://astroquery.readthedocs.org/en/latest/#installation), [astroplan](https://astroplan.readthedocs.org/en/latest/installation.html#id2) \n",
    "\n",
    "Installations via `pip`:\n",
    "```\n",
    "pip install astropy\n",
    "# Optionally: pip install astroquery astroplan\n",
    "```\n",
    "\n",
    "If this is the first time you've installed astropy, you should open a Python shell *right away* and run `import astropy`. Some parts of the package get built on the first import and take a few minutes to complete.\n",
    "\n",
    "***\n",
    "\n",
    "### Outline\n",
    "\n",
    "In this tour of `astropy`, we'll tinker with three of the most fundamental modules of `astropy`: `units`, `time` and `coordinates`, experiment with the cosmology module, and learn about `astropy`-affiliated packages including `astroquery` and `astroplan`.\n",
    "\n",
    "1. `astropy.units`\n",
    "2. `astropy.time`\n",
    "3. `astropy.coordinates`\n",
    "4. `astropy.cosmology`\n",
    "5. `astropy`-[affiliated packages](http://www.astropy.org/affiliated/): `astroquery` & `astroplan`\n",
    "\n",
    "*** \n",
    " \n",
    "## 1) [`astropy.units`](http://astropy.readthedocs.org/en/latest/units/): Problem sets are about to get easier\n",
    "\n",
    "One of the modules most central to `astropy` is the `units` module, which will save you lots of time. "
   ]
  },
  {
   "cell_type": "code",
   "execution_count": 4,
   "metadata": {
    "collapsed": false
   },
   "outputs": [],
   "source": [
    "%matplotlib inline\n",
    "from __future__ import print_function\n",
    "import numpy as np\n",
    "import matplotlib.pyplot as plt\n",
    "\n",
    "# Convention for importing `astropy.units`:\n",
    "import astropy.units as u\n",
    "\n",
    "d_galactic_center = u.Quantity(8e3, unit=u.pc)\n",
    "# or equivalently:\n",
    "d_galactic_center = 8e3*u.pc"
   ]
  },
  {
   "cell_type": "markdown",
   "metadata": {},
   "source": [
    "Astropy quantities are like `numpy` arrays and share many of their methods. "
   ]
  },
  {
   "cell_type": "code",
   "execution_count": 32,
   "metadata": {
    "collapsed": false
   },
   "outputs": [
    {
     "data": {
      "text/latex": [
       "$8000 \\; \\mathrm{pc}$"
      ],
      "text/plain": [
       "<Quantity 8000.0 pc>"
      ]
     },
     "execution_count": 32,
     "metadata": {},
     "output_type": "execute_result"
    }
   ],
   "source": [
    "d_galactic_center"
   ]
  },
  {
   "cell_type": "markdown",
   "metadata": {},
   "source": [
    "If you're self-abusive, imperial units are supported:"
   ]
  },
  {
   "cell_type": "code",
   "execution_count": 10,
   "metadata": {
    "collapsed": false
   },
   "outputs": [
    {
     "data": {
      "text/latex": [
       "$8.0988913 \\times 10^{20} \\; \\mathrm{ft}$"
      ],
      "text/plain": [
       "<Quantity 8.098891289940134e+20 ft>"
      ]
     },
     "execution_count": 10,
     "metadata": {},
     "output_type": "execute_result"
    }
   ],
   "source": [
    "from astropy.units.imperial import foot\n",
    "d_galactic_center.to(foot)"
   ]
  },
  {
   "cell_type": "markdown",
   "metadata": {},
   "source": [
    "What is the light-travel time to the galactic center? ($\\Delta t = \\Delta x / c$)"
   ]
  },
  {
   "cell_type": "code",
   "execution_count": 11,
   "metadata": {
    "collapsed": false
   },
   "outputs": [
    {
     "data": {
      "text/latex": [
       "$8.23417 \\times 10^{11} \\; \\mathrm{s}$"
      ],
      "text/plain": [
       "<Quantity 823417000428.2607 s>"
      ]
     },
     "execution_count": 11,
     "metadata": {},
     "output_type": "execute_result"
    }
   ],
   "source": [
    "from astropy.constants import c, G, M_sun, M_earth, M_jup\n",
    "\n",
    "dt = d_galactic_center/c\n",
    "dt.to(u.second)"
   ]
  },
  {
   "cell_type": "markdown",
   "metadata": {},
   "source": [
    "Metric prefixes accepted (try `M` for mega, `p` for pico, etc.)"
   ]
  },
  {
   "cell_type": "code",
   "execution_count": 12,
   "metadata": {
    "collapsed": false
   },
   "outputs": [
    {
     "data": {
      "text/latex": [
       "$823.417 \\; \\mathrm{Gs}$"
      ],
      "text/plain": [
       "<Quantity 823.4170004282606 Gs>"
      ]
     },
     "execution_count": 12,
     "metadata": {},
     "output_type": "execute_result"
    }
   ],
   "source": [
    "dt.to(u.gigasecond)"
   ]
  },
  {
   "cell_type": "markdown",
   "metadata": {},
   "source": [
    "Compute the light travel time from the Sun to solar system planets: "
   ]
  },
  {
   "cell_type": "code",
   "execution_count": 13,
   "metadata": {
    "collapsed": false
   },
   "outputs": [
    {
     "data": {
      "text/latex": [
       "$[0.053643014,~0.10021679,~0.13861244,~0.21124536,~0.72120053,~1.3200063,~2.6624677,~4.1704325] \\; \\mathrm{h}$"
      ],
      "text/plain": [
       "<Quantity [ 0.05364301, 0.10021679, 0.13861244, 0.21124536, 0.72120053,\n",
       "            1.32000627, 2.66246775, 4.17043248] h>"
      ]
     },
     "execution_count": 13,
     "metadata": {},
     "output_type": "execute_result"
    }
   ],
   "source": [
    "# Semimajor axes to planets in AU\n",
    "semimajor_axes_list = [0.387, 0.723, 1.000, 1.524, 5.203, 9.523, 19.208, 30.087]\n",
    "\n",
    "semimajor_axes = u.Quantity(semimajor_axes_list, unit=u.AU)\n",
    "(semimajor_axes/c).to(u.hour)"
   ]
  },
  {
   "cell_type": "markdown",
   "metadata": {},
   "source": [
    "***\n",
    "\n",
    "## 2) [`astropy.time`](http://astropy.readthedocs.org/en/latest/time/index.html): Time objects for humans\n",
    "\n",
    "There are many distinct and confusing time systems used in astronomy, and the `astropy.time` module provides a convenient means of translating between them – never code your own JD-to-ISO time converter or try to remember whether or not the difference between JD and MJD has a 0.5 in it again:"
   ]
  },
  {
   "cell_type": "code",
   "execution_count": 14,
   "metadata": {
    "collapsed": false
   },
   "outputs": [
    {
     "data": {
      "text/plain": [
       "2451545.0242592595"
      ]
     },
     "execution_count": 14,
     "metadata": {},
     "output_type": "execute_result"
    }
   ],
   "source": [
    "# The astropy.time.Time object contains a time in a specified format\n",
    "from astropy.time import Time\n",
    "\n",
    "# If the input format is not specified, it will guess. Here's an ISO formatted string:\n",
    "t = Time('2000-01-01 12:34:56')\n",
    "t.jd"
   ]
  },
  {
   "cell_type": "markdown",
   "metadata": {},
   "source": [
    "Here's a Julian Date:"
   ]
  },
  {
   "cell_type": "code",
   "execution_count": 15,
   "metadata": {
    "collapsed": false
   },
   "outputs": [
    {
     "data": {
      "text/plain": [
       "<Time object: scale='utc' format='jd' value=2451545.02426>"
      ]
     },
     "execution_count": 15,
     "metadata": {},
     "output_type": "execute_result"
    }
   ],
   "source": [
    "t = Time(2451545.0242592595, format='jd')\n",
    "t"
   ]
  },
  {
   "cell_type": "markdown",
   "metadata": {},
   "source": [
    "Convert between time formats by calling `t.iso`, `t.mjd`, `t.datetime`, etc."
   ]
  },
  {
   "cell_type": "code",
   "execution_count": 36,
   "metadata": {
    "collapsed": false
   },
   "outputs": [
    {
     "data": {
      "text/plain": [
       "2451545.0243055555"
      ]
     },
     "execution_count": 36,
     "metadata": {},
     "output_type": "execute_result"
    }
   ],
   "source": [
    "Time('2000-01-01 12:35').jd"
   ]
  },
  {
   "cell_type": "markdown",
   "metadata": {},
   "source": [
    "By default, the scale (or time standard) is set to **UTC**, which is defined to keep an integer number of seconds per day. There are other time standards like **UT1** which are defined by the rotation of the Earth (see [my blog post on time standards](http://bmmorris.blogspot.com/2015/06/ut1-utc-and-astropy.html) for more background). Converting between the two can be messy, but not with astropy:"
   ]
  },
  {
   "cell_type": "code",
   "execution_count": 37,
   "metadata": {
    "collapsed": false
   },
   "outputs": [
    {
     "name": "stdout",
     "output_type": "stream",
     "text": [
      "Available time scales: tai, tcb, tcg, tdb, tt, ut1, utc\n"
     ]
    },
    {
     "data": {
      "text/plain": [
       "u'utc'"
      ]
     },
     "execution_count": 37,
     "metadata": {},
     "output_type": "execute_result"
    }
   ],
   "source": [
    "print('Available time scales: {0}'.format(', '.join(Time.SCALES)))\n",
    "t.scale"
   ]
  },
  {
   "cell_type": "code",
   "execution_count": 38,
   "metadata": {
    "collapsed": false
   },
   "outputs": [
    {
     "data": {
      "text/plain": [
       "<Time object: scale='ut1' format='jd' value=2451545.02426>"
      ]
     },
     "execution_count": 38,
     "metadata": {},
     "output_type": "execute_result"
    }
   ],
   "source": [
    "t.ut1"
   ]
  },
  {
   "cell_type": "markdown",
   "metadata": {},
   "source": [
    "*Aside*: If converting between UTC and UT1 raises an `IndexError` like this, \n",
    "```\n",
    "IndexError: (some) times are outside of range covered by IERS table.\n",
    "```\n",
    "it's because you need more up-to-date Earth rotation data since the Earth's rate of rotation is constantly changing. See the `astropy.time` docs on [Transformation offsets](http://astropy.readthedocs.org/en/stable/time/index.html#transformation-offsets) to update your Earth rotation data."
   ]
  },
  {
   "cell_type": "markdown",
   "metadata": {},
   "source": [
    "Lastly, arrays of times can be generated from numpy arrays:"
   ]
  },
  {
   "cell_type": "code",
   "execution_count": 109,
   "metadata": {
    "collapsed": false
   },
   "outputs": [
    {
     "data": {
      "text/plain": [
       "array([ 2457319.3555631 ,  2457359.93889643,  2457400.52222977,\n",
       "        2457441.1055631 ,  2457481.68889643,  2457522.27222977,\n",
       "        2457562.8555631 ,  2457603.43889643,  2457644.02222977,\n",
       "        2457684.6055631 ])"
      ]
     },
     "execution_count": 109,
     "metadata": {},
     "output_type": "execute_result"
    }
   ],
   "source": [
    "t = Time.now() + np.linspace(0, 1, 10)*u.year\n",
    "t.jd"
   ]
  },
  {
   "cell_type": "markdown",
   "metadata": {},
   "source": [
    "\n",
    "\n",
    "\n",
    "\n",
    "\n",
    "***\n",
    "\n",
    "\n",
    "\n",
    "\n",
    "## 3) [`astropy.coordinates`](http://astropy.readthedocs.org/en/latest/coordinates/index.html)"
   ]
  },
  {
   "cell_type": "markdown",
   "metadata": {},
   "source": [
    "![XKCD comic](http://imgs.xkcd.com/comics/standards.png)"
   ]
  },
  {
   "cell_type": "markdown",
   "metadata": {},
   "source": [
    "Convert the position of your target from one coordinate system to another without opening a reference book!\n",
    "\n",
    "Let's define the galactic center in the natural coordinate system:"
   ]
  },
  {
   "cell_type": "code",
   "execution_count": 16,
   "metadata": {
    "collapsed": false
   },
   "outputs": [
    {
     "name": "stdout",
     "output_type": "stream",
     "text": [
      "<SkyCoord (Galactic): (l, b) in deg\n",
      "    (0.0, 0.0)>\n"
     ]
    }
   ],
   "source": [
    "from astropy.coordinates import SkyCoord\n",
    "\n",
    "gal_center = SkyCoord(l=0*u.deg, b=0*u.deg, frame='galactic')\n",
    "print(gal_center)"
   ]
  },
  {
   "cell_type": "markdown",
   "metadata": {},
   "source": [
    "Now let's say you have to tell an observer where the galactic center is in ICRS coordinates:"
   ]
  },
  {
   "cell_type": "code",
   "execution_count": 17,
   "metadata": {
    "collapsed": false
   },
   "outputs": [
    {
     "data": {
      "text/plain": [
       "<SkyCoord (ICRS): (ra, dec) in deg\n",
       "    (266.40498829, -28.93617776)>"
      ]
     },
     "execution_count": 17,
     "metadata": {},
     "output_type": "execute_result"
    }
   ],
   "source": [
    "gal_center.icrs"
   ]
  },
  {
   "cell_type": "markdown",
   "metadata": {},
   "source": [
    "You can resolve targets by name with the `from_name` class method. Try it with your favorite star object:"
   ]
  },
  {
   "cell_type": "code",
   "execution_count": 18,
   "metadata": {
    "collapsed": false
   },
   "outputs": [
    {
     "name": "stdout",
     "output_type": "stream",
     "text": [
      "<SkyCoord (ICRS): (ra, dec) in deg\n",
      "    (266.4168262, -29.0077969)>\n"
     ]
    }
   ],
   "source": [
    "sgr_a = SkyCoord.from_name('Sgr A*')\n",
    "print(sgr_a)"
   ]
  },
  {
   "cell_type": "markdown",
   "metadata": {},
   "source": [
    "Let's represent these coordinates in various formats with `.degree`, `.hourangle`:"
   ]
  },
  {
   "cell_type": "code",
   "execution_count": 19,
   "metadata": {
    "collapsed": false
   },
   "outputs": [
    {
     "data": {
      "text/latex": [
       "$266^\\circ25{}^\\prime00.5743{}^{\\prime\\prime}$"
      ],
      "text/plain": [
       "<Longitude 266.4168262 deg>"
      ]
     },
     "execution_count": 19,
     "metadata": {},
     "output_type": "execute_result"
    }
   ],
   "source": [
    "sgr_a.ra"
   ]
  },
  {
   "cell_type": "markdown",
   "metadata": {},
   "source": [
    "and experiment with the string outputs you'd use in a proposal, like `dms`, `hmsdms`, `decimal`:"
   ]
  },
  {
   "cell_type": "code",
   "execution_count": 20,
   "metadata": {
    "collapsed": false
   },
   "outputs": [
    {
     "data": {
      "text/plain": [
       "u'17:45:40.0383 -29:00:28.0688'"
      ]
     },
     "execution_count": 20,
     "metadata": {},
     "output_type": "execute_result"
    }
   ],
   "source": [
    "sgr_a.to_string(style='hmsdms', sep=\":\")"
   ]
  },
  {
   "cell_type": "markdown",
   "metadata": {},
   "source": [
    "`SkyCoord` objects can be initialized from lots of frames:"
   ]
  },
  {
   "cell_type": "code",
   "execution_count": 21,
   "metadata": {
    "collapsed": false
   },
   "outputs": [
    {
     "data": {
      "text/latex": [
       "$46^\\circ47{}^\\prime30.5618{}^{\\prime\\prime}$"
      ],
      "text/plain": [
       "<Angle 46.79182272650832 deg>"
      ]
     },
     "execution_count": 21,
     "metadata": {},
     "output_type": "execute_result"
    }
   ],
   "source": [
    "c1 = SkyCoord(10, 20, unit=\"deg\")\n",
    "c2 = SkyCoord(ra='18h36m56.3363s', dec='+38d47m01.2802s')\n",
    "c3 = SkyCoord(w=0, u=1, v=2, unit='kpc', frame='galactic', representation='cartesian')\n",
    "\n",
    "c2.separation(c3)"
   ]
  },
  {
   "cell_type": "markdown",
   "metadata": {},
   "source": [
    "With a specified location on Earth, you can compute alt/az coordinates for any `SkyCoord`"
   ]
  },
  {
   "cell_type": "code",
   "execution_count": 22,
   "metadata": {
    "collapsed": false
   },
   "outputs": [
    {
     "data": {
      "text/plain": [
       "u'11:21:34.3181 +12:46:20.73'"
      ]
     },
     "execution_count": 22,
     "metadata": {},
     "output_type": "execute_result"
    }
   ],
   "source": [
    "from astropy.coordinates import EarthLocation, AltAz\n",
    "\n",
    "# Define Earth location:\n",
    "longitude, latitude, elevation = (-122.3331*u.deg, 47.6097*u.deg, 0*u.m)\n",
    "seattle = EarthLocation.from_geodetic(longitude, latitude, elevation)\n",
    "\n",
    "# Define alt/az frame:\n",
    "alt_az_frame = AltAz(obstime=Time('2005-06-07 08:09:10'), location=seattle)\n",
    "\n",
    "# Transform the coordinate to the new reference frame, and print\n",
    "sgr_a_altaz = sgr_a.transform_to(alt_az_frame)\n",
    "sgr_a_altaz.to_string(style='hmsdms', sep=':')"
   ]
  },
  {
   "cell_type": "markdown",
   "metadata": {},
   "source": [
    "***\n",
    "\n",
    "\n",
    "## 4) [`astropy.cosmology`](http://astropy.readthedocs.org/en/latest/cosmology/): Get standard cosmologies fast!\n",
    "\n",
    "First, choose a cosmology (e.g.: `Planck13`, `WMAP9`) and get $H_0$:"
   ]
  },
  {
   "cell_type": "code",
   "execution_count": 21,
   "metadata": {
    "collapsed": false
   },
   "outputs": [
    {
     "name": "stdout",
     "output_type": "stream",
     "text": [
      "WMAP9 instance of FlatLambdaCDM cosmology\n",
      "\n",
      "(from Hinshaw et al. 2013, ApJS, 208, 19, doi: 10.1088/0067-0049/208/2/19. Table 4 (WMAP9 + eCMB + BAO + H0, last column))\n"
     ]
    },
    {
     "data": {
      "text/latex": [
       "$69.32 \\; \\mathrm{\\frac{km}{Mpc\\,s}}$"
      ],
      "text/plain": [
       "<Quantity 69.32 km / (Mpc s)>"
      ]
     },
     "execution_count": 21,
     "metadata": {},
     "output_type": "execute_result"
    }
   ],
   "source": [
    "from astropy.cosmology import WMAP9 as cosmo\n",
    "\n",
    "# Give me the reference for this cosmology:\n",
    "print(cosmo.__doc__)\n",
    "\n",
    "cosmo.H(z=0)"
   ]
  },
  {
   "cell_type": "code",
   "execution_count": 125,
   "metadata": {
    "collapsed": false
   },
   "outputs": [
    {
     "data": {
      "text/latex": [
       "$1681.5353 \\; \\mathrm{Mpc}$"
      ],
      "text/plain": [
       "<Quantity 1681.535321665544 Mpc>"
      ]
     },
     "execution_count": 125,
     "metadata": {},
     "output_type": "execute_result"
    }
   ],
   "source": [
    "cosmo.angular_diameter_distance(z=1)"
   ]
  },
  {
   "cell_type": "code",
   "execution_count": 126,
   "metadata": {
    "collapsed": false
   },
   "outputs": [
    {
     "data": {
      "text/latex": [
       "$6726.1413 \\; \\mathrm{Mpc}$"
      ],
      "text/plain": [
       "<Quantity 6726.141286662176 Mpc>"
      ]
     },
     "execution_count": 126,
     "metadata": {},
     "output_type": "execute_result"
    }
   ],
   "source": [
    "cosmo.luminosity_distance(z=1)"
   ]
  },
  {
   "cell_type": "markdown",
   "metadata": {},
   "source": [
    "In cosmology class you'll still have to learn to solve these from scratch, but you can double check yourself like so: "
   ]
  },
  {
   "cell_type": "code",
   "execution_count": 25,
   "metadata": {
    "collapsed": false
   },
   "outputs": [
    {
     "data": {
      "image/png": "[encoded data removed]",
      "text/plain": [
       "<matplotlib.figure.Figure at 0x109c56710>"
      ]
     },
     "metadata": {},
     "output_type": "display_data"
    }
   ],
   "source": [
    "z = np.linspace(0, 10, 50)\n",
    "\n",
    "# Compute some parameters\n",
    "t_lookback = cosmo.lookback_time(z)\n",
    "T_cmb = cosmo.Tcmb(z)\n",
    "D_A = cosmo.angular_diameter_distance(z)\n",
    "D_L = cosmo.luminosity_distance(z)\n",
    "\n",
    "fig, ax = plt.subplots(2, 2, figsize=(10, 10))\n",
    "\n",
    "ax[0, 0].plot(z, t_lookback)\n",
    "ax[0, 0].set(title='Look-back Time', xlabel='$z$', \n",
    "             ylabel=r'$t_{{lookback}}(z)$ [{0}]'.format(t_lookback.unit))\n",
    "\n",
    "ax[0, 1].plot(z, T_cmb)\n",
    "ax[0, 1].set(title='$T_{CMB}$', xlabel='$z$', \n",
    "             ylabel='$T_{{CMB}}(z)$ [{0}]'.format(T_cmb.unit))\n",
    "\n",
    "ax[1, 0].plot(z, D_A)\n",
    "ax[1, 0].set(title='Angular Diameter Distance', xlabel='$z$', \n",
    "             ylabel=r'$D_A(z)$ [{0}]'.format(D_A.unit))\n",
    "\n",
    "ax[1, 1].plot(z, D_L)\n",
    "ax[1, 1].set(title='Luminosity Distance', xlabel='$z$', \n",
    "             ylabel=r'$D_L(z)$ [{0}]'.format(D_L.unit))\n",
    "\n",
    "fig.subplots_adjust(wspace=0.3)\n",
    "fig.suptitle('Cosmology: {0}'.format(cosmo.name), fontsize=18);"
   ]
  },
  {
   "cell_type": "markdown",
   "metadata": {},
   "source": [
    "***\n",
    "\n",
    "\n",
    "## 5a) Affiliated Package: [`astroquery`](http://astroquery.readthedocs.org)\n",
    "\n",
    "Since `astropy` is a collection of fundamental tools, lots of packages have been built on top of `astropy` to provide easy access to specific functionality. One of those is `astroquery`, which allows you to query astronomical databases with ease.\n",
    "\n",
    "Let's query for the SIMBAD entry for a planet hosting star, HD 189733:"
   ]
  },
  {
   "cell_type": "code",
   "execution_count": 56,
   "metadata": {
    "collapsed": false
   },
   "outputs": [
    {
     "data": {
      "text/html": [
       "&lt;Table masked=True length=1&gt;\n",
       "<table id=\"table4418924624\">\n",
       "<thead><tr><th>MAIN_ID</th><th>RA</th><th>DEC</th><th>RA_PREC</th><th>DEC_PREC</th><th>COO_ERR_MAJA</th><th>COO_ERR_MINA</th><th>COO_ERR_ANGLE</th><th>COO_QUAL</th><th>COO_WAVELENGTH</th><th>COO_BIBCODE</th></tr></thead>\n",
       "<thead><tr><th></th><th>&quot;h:m:s&quot;</th><th>&quot;d:m:s&quot;</th><th></th><th></th><th>mas</th><th>mas</th><th>deg</th><th></th><th></th><th></th></tr></thead>\n",
       "<thead><tr><th>object</th><th>unicode416</th><th>unicode416</th><th>int16</th><th>int16</th><th>float32</th><th>float32</th><th>int16</th><th>unicode32</th><th>unicode32</th><th>object</th></tr></thead>\n",
       "<tr><td>HD 189773</td><td>20 05 10.8954</td><td>-61 30 25.967</td><td>8</td><td>8</td><td>62.600</td><td>55.680</td><td>90</td><td>B</td><td></td><td>1998A&amp;A...335L..65H</td></tr>\n",
       "</table>"
      ],
      "text/plain": [
       "<Table masked=True length=1>\n",
       " MAIN_ID        RA           DEC      ... COO_WAVELENGTH     COO_BIBCODE    \n",
       "             \"h:m:s\"       \"d:m:s\"    ...                                   \n",
       "  object    unicode416    unicode416  ...   unicode32           object      \n",
       "--------- ------------- ------------- ... -------------- -------------------\n",
       "HD 189773 20 05 10.8954 -61 30 25.967 ...                1998A&A...335L..65H"
      ]
     },
     "execution_count": 56,
     "metadata": {},
     "output_type": "execute_result"
    }
   ],
   "source": [
    "from astroquery.simbad import Simbad\n",
    "\n",
    "table = Simbad.query_object('HD 189773')\n",
    "table"
   ]
  },
  {
   "cell_type": "markdown",
   "metadata": {},
   "source": [
    "Let's query Vizier for the photometry of stars in the globular cluster NGC 6652 from [\n",
    "Ortolani et al. 1994](http://cdsads.u-strasbg.fr/cgi-bin/nph-bib_query?1994A%26A...286..444O&db_key=AST&nosetcookie=1). The [`astropy.table`](http://astropy.readthedocs.org/en/latest/table/) that is returned to you will have the same information as [this Vizier query page](http://vizier.u-strasbg.fr/viz-bin/VizieR?-source=J/A+A/286/444)."
   ]
  },
  {
   "cell_type": "code",
   "execution_count": 26,
   "metadata": {
    "collapsed": false
   },
   "outputs": [
    {
     "name": "stdout",
     "output_type": "stream",
     "text": [
      "Available columns: ['Seq', 'Xpos', 'Ypos', 'Vmag', 'B-V']\n"
     ]
    }
   ],
   "source": [
    "from astroquery.vizier import Vizier\n",
    "\n",
    "#catalog_list = Vizier.find_catalogs(\"Landolt 1992\")\n",
    "catalog_list = Vizier.find_catalogs(\"J/A+A/286/444\") # Table from Ortolani+ 1994\n",
    "catalogs = Vizier.get_catalogs(catalog_list.keys())\n",
    "Vizier.ROW_LIMIT = -1        # Otherwise would only show first 50 values\n",
    "landolt_table = catalogs[0]  # This is the table with the data\n",
    "\n",
    "print(\"Available columns: {0}\".format(landolt_table.columns.keys()))"
   ]
  },
  {
   "cell_type": "markdown",
   "metadata": {},
   "source": [
    "And let's make a quick HR diagram for these objects:"
   ]
  },
  {
   "cell_type": "code",
   "execution_count": 27,
   "metadata": {
    "collapsed": false
   },
   "outputs": [
    {
     "data": {
      "image/png": "[encoded data removed]",
      "text/plain": [
       "<matplotlib.figure.Figure at 0x106ee1710>"
      ]
     },
     "metadata": {},
     "output_type": "display_data"
    }
   ],
   "source": [
    "# Grab data from the columns of the `astropy.table.Table`\n",
    "b_minus_v = landolt_table['B-V'].data\n",
    "Vmag = landolt_table['Vmag'].data\n",
    "\n",
    "# Plot color magnitude diagram\n",
    "ax = plt.gca()\n",
    "ax.plot(b_minus_v, Vmag, 'k.', alpha=0.3)\n",
    "ax.invert_yaxis()\n",
    "ax.set(xlim=[0.0, 2.0], ylim=[22, 14],\n",
    "       xlabel='B-V', ylabel='V', title='NGC 6652')\n",
    "plt.show()"
   ]
  },
  {
   "cell_type": "markdown",
   "metadata": {
    "collapsed": true
   },
   "source": [
    "## 5b) Affiliated Package: [`astroplan`](https://astroplan.readthedocs.org/en/latest/)\n",
    "\n",
    "`astroplan` is an `astropy`-affiliated package that helps you calculate when objects are observable. Here's a quick example for determining which targets are visible right now from Apache Point Observatory:"
   ]
  },
  {
   "cell_type": "code",
   "execution_count": 23,
   "metadata": {
    "collapsed": false
   },
   "outputs": [
    {
     "data": {
      "text/plain": [
       "[True, True, False, True]"
      ]
     },
     "execution_count": 23,
     "metadata": {},
     "output_type": "execute_result"
    }
   ],
   "source": [
    "from astroplan import Observer, FixedTarget\n",
    "\n",
    "# Targets are stored as `astroplan.FixedTarget` objects\n",
    "target_names = ['Polaris', 'Sirius', 'Vega', 'Rigel']\n",
    "bright_targets = [FixedTarget.from_name(target) for target in target_names]\n",
    "\n",
    "# Observatories are `astroplan.Observer` objects\n",
    "apache_point = Observer.at_site(\"APO\")\n",
    "\n",
    "# Which targets are visible right now?\n",
    "apache_point.target_is_up(Time('2001-12-21 10:00:00'), bright_targets)"
   ]
  },
  {
   "cell_type": "markdown",
   "metadata": {},
   "source": [
    "Now let's see which of those targets are visible over a time range of the next ten days, given the following constraints: \n",
    "\n",
    "* Observations must occur between civil twilights\n",
    "* The altitude of the target must be $20^\\circ < $alt$ < 85^\\circ$"
   ]
  },
  {
   "cell_type": "code",
   "execution_count": 26,
   "metadata": {
    "collapsed": false
   },
   "outputs": [
    {
     "data": {
      "text/html": [
       "&lt;Table masked=False length=4&gt;\n",
       "<table id=\"table4443508624\">\n",
       "<thead><tr><th>target name</th><th>ever observable</th><th>always observable</th><th>fraction of time observable</th></tr></thead>\n",
       "<thead><tr><th>string56</th><th>bool</th><th>bool</th><th>float64</th></tr></thead>\n",
       "<tr><td>Polaris</td><td>True</td><td>False</td><td>0.502083333333</td></tr>\n",
       "<tr><td>Sirius</td><td>True</td><td>False</td><td>0.183333333333</td></tr>\n",
       "<tr><td>Vega</td><td>True</td><td>False</td><td>0.15</td></tr>\n",
       "<tr><td>Rigel</td><td>True</td><td>False</td><td>0.270833333333</td></tr>\n",
       "</table>"
      ],
      "text/plain": [
       "<Table masked=False length=4>\n",
       "target name ever observable always observable fraction of time observable\n",
       "  string56        bool             bool                 float64          \n",
       "----------- --------------- ----------------- ---------------------------\n",
       "    Polaris            True             False              0.502083333333\n",
       "     Sirius            True             False              0.183333333333\n",
       "       Vega            True             False                        0.15\n",
       "      Rigel            True             False              0.270833333333"
      ]
     },
     "execution_count": 26,
     "metadata": {},
     "output_type": "execute_result"
    }
   ],
   "source": [
    "from astroplan import AtNightConstraint, AltitudeConstraint, observability_table\n",
    "\n",
    "landolt_targets = [FixedTarget(coord=coord, name=name) \n",
    "                   for coord, name in zip(landolt_standards, names)]\n",
    "time_range = Time.now() + np.array([0, 10])*u.day\n",
    "\n",
    "constraints = [AtNightConstraint.twilight_civil(),\n",
    "               AltitudeConstraint(min=27*u.deg, max=85*u.deg)]\n",
    "\n",
    "observability_table(constraints, apache_point, bright_targets, time_range=time_range)"
   ]
  },
  {
   "cell_type": "markdown",
   "metadata": {},
   "source": [
    "Let's track that target's motion through the sky for the next ten hours in a plot: "
   ]
  },
  {
   "cell_type": "code",
   "execution_count": 39,
   "metadata": {
    "collapsed": false
   },
   "outputs": [
    {
     "data": {
      "image/png": "[encoded data removed]",
      "text/plain": [
       "<matplotlib.figure.Figure at 0x108548490>"
      ]
     },
     "metadata": {},
     "output_type": "display_data"
    }
   ],
   "source": [
    "from astroplan.plots import plot_sky\n",
    "\n",
    "# Plot at times: \n",
    "plot_times = Time.now() + np.linspace(0, 8, 10)*u.hour\n",
    "\n",
    "plot_sky(bright_targets[2], apache_point, plot_times);"
   ]
  },
  {
   "cell_type": "markdown",
   "metadata": {
    "collapsed": true
   },
   "source": [
    "### Putting the affiliated packages together: \n",
    "Which [Landolt (1992)](http://adsabs.harvard.edu/abs/1992AJ....104..340L) standard stars are up tonight?"
   ]
  },
  {
   "cell_type": "code",
   "execution_count": 37,
   "metadata": {
    "collapsed": false
   },
   "outputs": [
    {
     "name": "stdout",
     "output_type": "stream",
     "text": [
      "   target name     ever observable always observable fraction of time observable\n",
      "------------------ --------------- ----------------- ---------------------------\n",
      "     [L92b] TPHE A           False             False                         0.0\n",
      "     [L92b] TPHE B           False             False                         0.0\n",
      "     [L92b] TPHE C           False             False                         0.0\n",
      "     [L92b] TPHE D           False             False                         0.0\n",
      "     [L92b] TPHE E           False             False                         0.0\n",
      "     [L92b] TPHE F           False             False                         0.0\n",
      "     [L92b] TPHE G           False             False                         0.0\n",
      "        PG0029+024            True             False              0.407407407407\n",
      "        PG0039+049            True             False              0.407407407407\n",
      "         SA 92 309            True             False               0.37037037037\n",
      "               ...             ...               ...                         ...\n",
      "[L92b] PG2336+004B            True             False               0.37037037037\n",
      "[L92b] PG2336+004A            True             False               0.37037037037\n",
      "        PG2336+004            True             False               0.37037037037\n",
      "        SA 115 554            True             False               0.37037037037\n",
      "        SA 115 486            True             False               0.37037037037\n",
      "        SA 115 412            True             False               0.37037037037\n",
      "        SA 115 268            True             False               0.37037037037\n",
      "        SA 115 420            True             False               0.37037037037\n",
      "        SA 115 271            True             False               0.37037037037\n",
      "        SA 115 516            True             False               0.37037037037\n",
      "        PG2349+002            True             False               0.37037037037\n",
      "Length = 526 rows\n"
     ]
    }
   ],
   "source": [
    "from astroplan import AirmassConstraint\n",
    "\n",
    "# Get the objects from Landolt (1992) via astroquery\n",
    "catalog_list = Vizier.find_catalogs('Landolt 1992')\n",
    "catalogs = Vizier.get_catalogs(catalog_list.keys())\n",
    "Vizier.ROW_LIMIT = -1   # Otherwise would only show first 50 values\n",
    "catalog_table = catalogs[0] # This is the table with the data\n",
    "\n",
    "# Make `astroplan.FixedTarget` objects for each standard star\n",
    "RAs = u.Quantity(catalog_table['_RAJ2000'].data, unit=u.deg)\n",
    "Decs = u.Quantity(catalog_table['_DEJ2000'].data, unit=u.deg)\n",
    "names = list(catalog_table['SimbadName'].data)\n",
    "landolt_standards = SkyCoord(ra=RAs, dec=Decs)\n",
    "target_list = [FixedTarget(coord=coord, name=name) \n",
    "               for coord, name in zip(landolt_standards, names)]\n",
    "\n",
    "# Figure out when \"tonight\" is\n",
    "present_time = Time.now()\n",
    "if not apache_point.is_night(present_time):\n",
    "    # If it's currently day time at runtime, find time of sunset and sunrise\n",
    "    tonight_start = apache_point.sun_set_time(present_time, which='next')\n",
    "    tonight_end = apache_point.sun_rise_time(present_time, which='next')\n",
    "else:\n",
    "    # Otherwise find time to next sunrise\n",
    "    tonight_start = present_time\n",
    "    tonight_end = apache_point.sun_rise_time(present_time, which='next')\n",
    "\n",
    "# Constrain our observations to be between astronomical twilights and \n",
    "# between altitudes of 27-85 degrees\n",
    "constraints = [AtNightConstraint.twilight_astronomical(),\n",
    "               AltitudeConstraint(min=27*u.deg, max=85*u.deg),\n",
    "               AirmassConstraint(max=1.5)]\n",
    "\n",
    "# Calculate which stars are observable\n",
    "table = observability_table(constraints, apache_point, target_list, \n",
    "                            time_range=Time([tonight_start, tonight_end]))\n",
    "print(table)"
   ]
  },
  {
   "cell_type": "code",
   "execution_count": null,
   "metadata": {
    "collapsed": true
   },
   "outputs": [],
   "source": []
  }
 ],
 "metadata": {
  "kernelspec": {
   "display_name": "Python 2",
   "language": "python",
   "name": "python2"
  },
  "language_info": {
   "codemirror_mode": {
    "name": "ipython",
    "version": 2
   },
   "file_extension": ".py",
   "mimetype": "text/x-python",
   "name": "python",
   "nbconvert_exporter": "python",
   "pygments_lexer": "ipython2",
   "version": "2.7.10"
  }
 },
 "nbformat": 4,
 "nbformat_minor": 0
}

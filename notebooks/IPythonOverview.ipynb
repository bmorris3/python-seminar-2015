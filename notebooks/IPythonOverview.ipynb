{
 "metadata": {
  "kernelspec": {
   "display_name": "Python 3.4",
   "language": "",
   "name": "python3.4"
  },
  "language_info": {
   "codemirror_mode": {
    "name": "ipython",
    "version": 3
   },
   "file_extension": ".py",
   "mimetype": "text/x-python",
   "name": "python",
   "nbconvert_exporter": "python",
   "pygments_lexer": "ipython3",
   "version": "3.4.3"
  },
  "name": "",
  "signature": "sha256:c2c364153b072a656514391f2590e38327ba5e9a1407369b2b334a5b3dd7977a"
 },
 "nbformat": 3,
 "nbformat_minor": 0,
 "worksheets": [
  {
   "cells": [
    {
     "cell_type": "markdown",
     "metadata": {},
     "source": [
      "## IPython Shell & Notebook\n",
      "\n",
      "- Command line: ``ipython`` for shell, ``ipython notebook`` for notebook\n",
      "- why you might use one or the other"
     ]
    },
    {
     "cell_type": "markdown",
     "metadata": {},
     "source": [
      "## Help and Documentation\n",
      "\n",
      "- Help and Documentation:\n",
      "  - tab-completion\n",
      "  - ``?`` for documentation string\n",
      "  - ``??`` for source code\n",
      "  - ``shift-<TAB>`` (notebook only)\n",
      "  - wildcard matching"
     ]
    },
    {
     "cell_type": "heading",
     "level": 2,
     "metadata": {},
     "source": [
      "IPython Shell: Keyboard Shortcuts"
     ]
    },
    {
     "cell_type": "markdown",
     "metadata": {},
     "source": [
      "### Navigation\n",
      "\n",
      "| Keystroke                     | Action                                     |\n",
      "|-------------------------------|--------------------------------------------|\n",
      "| ``Ctrl-a``                    | Move cursor to the beginning of the line   |\n",
      "| ``Ctrl-e``                    | Move cursor to the end of the line         |\n",
      "| ``Ctrl-b`` or ``left-arrow``  | Move cursor back one character             |\n",
      "| ``Ctrl-f`` or ``right-arrow`` | Move cursor forward one character          |"
     ]
    },
    {
     "cell_type": "markdown",
     "metadata": {},
     "source": [
      "### Text Entry\n",
      "\n",
      "| Keystroke                     | Action                                          |\n",
      "|-------------------------------|-------------------------------------------------|\n",
      "| ``backspace``                 | Delete previous character in line               |\n",
      "| ``Ctrl-d``                    | Delete next character in line                   |\n",
      "| ``Ctrl-k``                    | Cut text from cursor to end of line             |\n",
      "| ``Ctrl-u``                    | Cut all text before cursor                         |\n",
      "| ``Ctrl-y``                    | Yank (i.e. Paste) text which was previously cut |\n",
      "| ``Ctrl-t``                    | Transpose (i.e. switch) previous two characters |"
     ]
    },
    {
     "cell_type": "markdown",
     "metadata": {},
     "source": [
      "### Command History\n",
      "\n",
      "| Keystroke                     | Action                                     |\n",
      "|-------------------------------|--------------------------------------------|\n",
      "| ``Ctrl-p`` or ``up-arrow``    | Access previous command in history         |\n",
      "| ``Ctrl-n`` or ``down-arrow``  | Access next command in history             |\n",
      "| ``Ctrl-r``                    | Reverse-search through command history     |"
     ]
    },
    {
     "cell_type": "markdown",
     "metadata": {},
     "source": [
      "### Miscelaneous\n",
      "\n",
      "| Keystroke                     | Action                                     |\n",
      "|-------------------------------|--------------------------------------------|\n",
      "| ``Ctrl-l``                    | Clear terminal screen                      |\n",
      "| ``Ctrl-c``                    | Interrupt current Python command           |\n",
      "| ``Ctrl-d``                    | Exit IPython session                       |"
     ]
    },
    {
     "cell_type": "markdown",
     "metadata": {},
     "source": [
      "## IPython Notebook: Keyboard shortcuts\n",
      "\n",
      "- \"edit mode\" vs \"navigate mode\"\n",
      "- shift-enter and control-enter\n",
      "- important: ``Ctrl-m`` switches to navigate mode; RETURN switches to edit mode\n",
      "- example: creating and deleting cells\n",
      "- Get help commands: ``ctrl-m-h``"
     ]
    },
    {
     "cell_type": "markdown",
     "metadata": {},
     "source": [
      "## Magic Commands\n",
      "\n",
      "- (shell only) ``%paste`` / ``%cpaste``\n",
      "\n",
      "- ``%file``\n",
      "\n",
      "- ``%run``\n",
      "\n",
      "- ``%timeit``\n",
      "\n",
      "- ``%lsmagic``"
     ]
    },
    {
     "cell_type": "markdown",
     "metadata": {},
     "source": [
      "### Shell Commands\n",
      "\n",
      "- Anything starting with ``!``\n",
      "- assign results to Python variables\n",
      "- use ``{}`` to pass Python variables to shell"
     ]
    }
   ],
   "metadata": {}
  }
 ]
}